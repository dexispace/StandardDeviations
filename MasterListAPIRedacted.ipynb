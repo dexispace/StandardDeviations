{
 "cells": [
  {
   "cell_type": "code",
   "execution_count": 1,
   "id": "674aa6ed",
   "metadata": {},
   "outputs": [],
   "source": [
    "import os\n",
    "import pandas as pd\n",
    "import time\n",
    "import numpy as np\n",
    "from datetime import date\n",
    "from openpyxl import load_workbook\n",
    "import matplotlib.pyplot as plt\n",
    "import gspread\n",
    "##import credentials\n",
    "from pandas import Series, DataFrame"
   ]
  },
  {
   "cell_type": "code",
   "execution_count": 2,
   "id": "0d1a05ab",
   "metadata": {},
   "outputs": [
    {
     "ename": "NameError",
     "evalue": "name 'ServiceAccountCredentials' is not defined",
     "output_type": "error",
     "traceback": [
      "\u001b[1;31m---------------------------------------------------------------------------\u001b[0m",
      "\u001b[1;31mNameError\u001b[0m                                 Traceback (most recent call last)",
      "Input \u001b[1;32mIn [2]\u001b[0m, in \u001b[0;36m<cell line: 3>\u001b[1;34m()\u001b[0m\n\u001b[0;32m      1\u001b[0m scope \u001b[38;5;241m=\u001b[39m [\u001b[38;5;124m'\u001b[39m\u001b[38;5;124mhttps://spreadsheets.google.com/feeds\u001b[39m\u001b[38;5;124m'\u001b[39m]\n\u001b[0;32m      2\u001b[0m \u001b[38;5;66;03m##add filepath to credentials\u001b[39;00m\n\u001b[1;32m----> 3\u001b[0m credentials \u001b[38;5;241m=\u001b[39m \u001b[43mServiceAccountCredentials\u001b[49m\u001b[38;5;241m.\u001b[39mfrom_json_keyfile_name(\u001b[38;5;124m'\u001b[39m\u001b[38;5;124m'\u001b[39m, scope)\n\u001b[0;32m      4\u001b[0m gc \u001b[38;5;241m=\u001b[39m gspread\u001b[38;5;241m.\u001b[39mauthorize(credentials)\n\u001b[0;32m      5\u001b[0m \u001b[38;5;28mprint\u001b[39m(\u001b[38;5;124m'\u001b[39m\u001b[38;5;124mscoped success\u001b[39m\u001b[38;5;124m'\u001b[39m)\n",
      "\u001b[1;31mNameError\u001b[0m: name 'ServiceAccountCredentials' is not defined"
     ]
    }
   ],
   "source": [
    "scope = ['https://spreadsheets.google.com/feeds']\n",
    "##add filepath to credentials\n",
    "credentials = ServiceAccountCredentials.from_json_keyfile_name('', scope)\n",
    "gc = gspread.authorize(credentials)\n",
    "print('scoped success')\n",
    "print(credentials)"
   ]
  },
  {
   "cell_type": "code",
   "execution_count": null,
   "id": "53fd431d",
   "metadata": {},
   "outputs": [],
   "source": [
    "##add spreadsheet key below\n",
    "spreadsheet_key = ''\n",
    "book = gc.open_by_key(spreadsheet_key)\n",
    "worksheet = book.worksheet(\"MasterAPI\")\n",
    "table = worksheet.get_all_values()\n",
    "print('keytest complete')"
   ]
  },
  {
   "cell_type": "code",
   "execution_count": null,
   "id": "a9c8abfd",
   "metadata": {},
   "outputs": [],
   "source": [
    "df = pd.DataFrame(table)\n",
    "print(df)"
   ]
  },
  {
   "cell_type": "code",
   "execution_count": null,
   "id": "f61eaf95",
   "metadata": {},
   "outputs": [],
   "source": [
    "df.columns = df.iloc[0]\n",
    "df = df[1:]"
   ]
  },
  {
   "cell_type": "code",
   "execution_count": null,
   "id": "8ce496df",
   "metadata": {},
   "outputs": [],
   "source": [
    "df[\"Slab\"] = pd.to_numeric(df[\"Slab\"])\n",
    "df[\"Framing\"] = pd.to_numeric(df[\"Framing\"])\n",
    "df[\"DryIn\"] = pd.to_numeric(df[\"DryIn\"])\n",
    "df[\"Drywall\"] = pd.to_numeric(df[\"Drywall\"])\n",
    "df[\"Mechanical\"] = pd.to_numeric(df[\"Mechanical\"])\n",
    "df[\"Electrical\"] = pd.to_numeric(df[\"Electrical\"])\n",
    "df[\"Insulation\"] = pd.to_numeric(df[\"Insulation\"])\n",
    "df[\"SheetRock\"] = pd.to_numeric(df[\"SheetRock\"])\n",
    "df[\"Texture\"] = pd.to_numeric(df[\"Texture\"])\n",
    "df[\"Tubs\"] = pd.to_numeric(df[\"Tubs\"])\n",
    "df[\"Floors\"] = pd.to_numeric(df[\"Floors\"])\n",
    "df[\"BS\"] = pd.to_numeric(df[\"BS\"])\n",
    "df[\"FP\"] = pd.to_numeric(df[\"FP\"])\n",
    "df[\"WoodVinyl\"] = pd.to_numeric(df[\"WoodVinyl\"])\n",
    "df[\"Carpet\"] = pd.to_numeric(df[\"Carpet\"])\n",
    "df[\"FineTune\"] = pd.to_numeric(df[\"FineTune\"])\n",
    "df.info(memory_usage='deep')"
   ]
  },
  {
   "cell_type": "code",
   "execution_count": null,
   "id": "b0035651",
   "metadata": {},
   "outputs": [],
   "source": [
    "df['Insulation to Tilestart']=df.Floors-df.Insulation\n",
    "print(df)"
   ]
  },
  {
   "cell_type": "code",
   "execution_count": null,
   "id": "027a730b",
   "metadata": {},
   "outputs": [],
   "source": [
    "Blackburn = df[df['Builder'].str.contains('Blackburn')]\n",
    "Blackburn['Insulation to Tilestart']=Blackburn.Floors-Blackburn.Insulation\n",
    "BlackburnMean = (Blackburn['Insulation to Tilestart'].mean())"
   ]
  },
  {
   "cell_type": "code",
   "execution_count": null,
   "id": "0d8f3368",
   "metadata": {},
   "outputs": [],
   "source": [
    "Brookfield = df[df['Builder'].str.contains('Brookfield')]\n",
    "Brookfield['Insulation to Tilestart']=Brookfield.Floors-Brookfield.Insulation\n",
    "BrookfieldMean = (Brookfield['Insulation to Tilestart'].mean())"
   ]
  },
  {
   "cell_type": "code",
   "execution_count": null,
   "id": "8ed558f7",
   "metadata": {},
   "outputs": [],
   "source": [
    "Coventry = df[df['Builder'].str.contains('Coventry')]\n",
    "Coventry['Insulation to Tilestart']=Coventry.Floors-Coventry.Insulation\n",
    "CoventryMean = (Coventry['Insulation to Tilestart'].mean())"
   ]
  },
  {
   "cell_type": "code",
   "execution_count": null,
   "id": "325f9066",
   "metadata": {},
   "outputs": [],
   "source": [
    "DRHorton = df[df['Builder'].str.contains('DR Horton')]\n",
    "DRHorton['Insulation to Tilestart']=DRHorton.Floors-DRHorton.Insulation\n",
    "DRHortonMean = (DRHorton['Insulation to Tilestart'].mean())"
   ]
  },
  {
   "cell_type": "code",
   "execution_count": null,
   "id": "d07f9d50",
   "metadata": {},
   "outputs": [],
   "source": [
    "Brookfield = df[df['Builder'].str.contains('Brookfield')]\n",
    "Brookfield['Insulation to Tilestart']=Brookfield.Floors-Brookfield.Insulation\n",
    "BrookfieldMean = (Brookfield['Insulation to Tilestart'].mean())"
   ]
  },
  {
   "cell_type": "code",
   "execution_count": null,
   "id": "465d5f57",
   "metadata": {},
   "outputs": [],
   "source": [
    "MI = df[df['Builder'].str.contains('M/I')]\n",
    "MI['Insulation to Tilestart']=MI.Floors-MI.Insulation\n",
    "MIMean = (MI['Insulation to Tilestart'].mean())"
   ]
  },
  {
   "cell_type": "code",
   "execution_count": null,
   "id": "8c31ec39",
   "metadata": {},
   "outputs": [],
   "source": [
    "Milestone = df[df['Builder'].str.contains('Milestone')]\n",
    "Milestone['Insulation to Tilestart']=Milestone.Floors-Milestone.Insulation\n",
    "MilestoneMean = (Milestone['Insulation to Tilestart'].mean())"
   ]
  },
  {
   "cell_type": "code",
   "execution_count": null,
   "id": "01d48996",
   "metadata": {},
   "outputs": [],
   "source": [
    "Lennar = df[df['Builder'].str.contains('Lennar')]\n",
    "Lennar['Insulation to Tilestart']=Lennar.Floors-Lennar.Insulation\n",
    "LennarMean = (Lennar['Insulation to Tilestart'].mean())"
   ]
  },
  {
   "cell_type": "code",
   "execution_count": null,
   "id": "9387d195",
   "metadata": {},
   "outputs": [],
   "source": [
    "Newmark = df[df['Builder'].str.contains('Newmark')]\n",
    "Newmark['Insulation to Tilestart']=Newmark.Floors-Newmark.Insulation\n",
    "NewmarkMean = (Newmark['Insulation to Tilestart'].mean())"
   ]
  },
  {
   "cell_type": "code",
   "execution_count": null,
   "id": "b733457b",
   "metadata": {},
   "outputs": [],
   "source": [
    "Pacesetter = df[df['Builder'].str.contains('Pacesetter')]\n",
    "Pacesetter['Insulation to Tilestart']=Pacesetter.Floors-Pacesetter.Insulation\n",
    "PacesetterMean = (Pacesetter['Insulation to Tilestart'].mean())"
   ]
  },
  {
   "cell_type": "code",
   "execution_count": null,
   "id": "864b92f7",
   "metadata": {},
   "outputs": [],
   "source": [
    "Prominence = df[df['Builder'].str.contains('Prominence')]\n",
    "Prominence['Insulation to Tilestart']=Prominence.Floors-Prominence.Insulation\n",
    "ProminenceMean = (Prominence['Insulation to Tilestart'].mean())"
   ]
  },
  {
   "cell_type": "code",
   "execution_count": null,
   "id": "29f8e01e",
   "metadata": {},
   "outputs": [],
   "source": [
    "Pulte = df[df['Builder'].str.contains('Pulte')]\n",
    "Pulte['Insulation to Tilestart']=Pulte.Floors-Pulte.Insulation\n",
    "PulteMean = (Pulte['Insulation to Tilestart'].mean())"
   ]
  },
  {
   "cell_type": "code",
   "execution_count": null,
   "id": "2294cca7",
   "metadata": {},
   "outputs": [],
   "source": [
    "Toll = df[df['Builder'].str.contains('Toll Brothers')]\n",
    "Toll['Insulation to Tilestart']=Toll.Floors-Toll.Insulation\n",
    "TollMean = (Toll['Insulation to Tilestart'].mean())"
   ]
  },
  {
   "cell_type": "code",
   "execution_count": null,
   "id": "795035fa",
   "metadata": {},
   "outputs": [],
   "source": [
    "print(\"Blackburn's Standard Deviation\")\n",
    "print(Blackburn['Insulation to Tilestart'].std())\n",
    "print(\"Blackburn's Average Insulation to Tilestart\")\n",
    "print(BlackburnMean)"
   ]
  },
  {
   "cell_type": "code",
   "execution_count": null,
   "id": "bff1f1fa",
   "metadata": {},
   "outputs": [],
   "source": [
    "print(\"Brookfield's Standard Deviation\")\n",
    "print(Brookfield['Insulation to Tilestart'].std())\n",
    "print(\"Brookfield's Average Insulation to Tilestart\")\n",
    "print(BrookfieldMean)"
   ]
  },
  {
   "cell_type": "code",
   "execution_count": null,
   "id": "8f2a3442",
   "metadata": {},
   "outputs": [],
   "source": [
    "print(\"Coventry's Standard Deviation\")\n",
    "print(Coventry['Insulation to Tilestart'].std())\n",
    "print(\"Coventry's Average Insulation to Tilestart\")\n",
    "print(CoventryMean)"
   ]
  },
  {
   "cell_type": "code",
   "execution_count": null,
   "id": "946eb223",
   "metadata": {},
   "outputs": [],
   "source": [
    "print(\"DRHorton's Standard Deviation\")\n",
    "print(DRHorton['Insulation to Tilestart'].std())\n",
    "print(\"DRHorton's Average Insulation to Tilestart\")\n",
    "print(DRHortonMean)"
   ]
  },
  {
   "cell_type": "code",
   "execution_count": null,
   "id": "777156f0",
   "metadata": {},
   "outputs": [],
   "source": [
    "print(\"Lennar's Standard Deviation\")\n",
    "print(Lennar['Insulation to Tilestart'].std())\n",
    "print(\"Lennar's Average Insulation to Tilestart\")\n",
    "print(LennarMean)"
   ]
  },
  {
   "cell_type": "code",
   "execution_count": null,
   "id": "0b366f96",
   "metadata": {},
   "outputs": [],
   "source": [
    "print(\"M/I's Standard Deviation\")\n",
    "print(MI['Insulation to Tilestart'].std())\n",
    "print(\"M/I's Average Insulation to Tilestart\")\n",
    "print(MIMean)"
   ]
  },
  {
   "cell_type": "code",
   "execution_count": null,
   "id": "9d2f13be",
   "metadata": {},
   "outputs": [],
   "source": [
    "print(\"Milestone's Standard Deviation\")\n",
    "print(Milestone['Insulation to Tilestart'].std())\n",
    "print(\"Milestone's Average Insulation to Tilestart\")\n",
    "print(MilestoneMean)"
   ]
  },
  {
   "cell_type": "code",
   "execution_count": null,
   "id": "4f2e5a8a",
   "metadata": {},
   "outputs": [],
   "source": [
    "print(\"Newmark's Standard Deviation\")\n",
    "print(Newmark['Insulation to Tilestart'].std())\n",
    "print(\"Newmark's Average Insulation to Tilestart\")\n",
    "print(NewmarkMean)"
   ]
  },
  {
   "cell_type": "code",
   "execution_count": null,
   "id": "9a6ea1aa",
   "metadata": {},
   "outputs": [],
   "source": [
    "print(\"Pacesetter's Standard Deviation\")\n",
    "print(Pacesetter['Insulation to Tilestart'].std())\n",
    "print(\"Pacesetter's Average Insulation to Tilestart\")\n",
    "print(PacesetterMean)"
   ]
  },
  {
   "cell_type": "code",
   "execution_count": null,
   "id": "99c7bcb5",
   "metadata": {},
   "outputs": [],
   "source": [
    "print(\"Prominence's Standard Deviation\")\n",
    "print(Prominence['Insulation to Tilestart'].std())\n",
    "print(\"Prominence's Average Insulation to Tilestart\")\n",
    "print(ProminenceMean)"
   ]
  },
  {
   "cell_type": "code",
   "execution_count": null,
   "id": "85328ea1",
   "metadata": {},
   "outputs": [],
   "source": [
    "print(\"Pulte's Standard Deviation\")\n",
    "print(Pulte['Insulation to Tilestart'].std())\n",
    "print(\"Pulte's Average Insulation to Tilestart\")\n",
    "print(PulteMean)"
   ]
  },
  {
   "cell_type": "code",
   "execution_count": null,
   "id": "70cd92ed",
   "metadata": {},
   "outputs": [],
   "source": [
    "print(\"Toll's Standard Deviation\")\n",
    "print(Toll['Insulation to Tilestart'].std())\n",
    "print(\"Toll's Average Insulation to Tilestart\")\n",
    "print(TollMean)"
   ]
  },
  {
   "cell_type": "code",
   "execution_count": null,
   "id": "03819ca9",
   "metadata": {},
   "outputs": [],
   "source": [
    "Builderstd = (\n",
    "    ['Blackburn', Blackburn['Insulation to Tilestart'].std()],\n",
    "    ['Brookfield', Brookfield['Insulation to Tilestart'].std()],\n",
    "    ['Coventry', Coventry['Insulation to Tilestart'].std()],\n",
    "    ['DR Horton', DRHorton['Insulation to Tilestart'].std()],\n",
    "    ['Lennar', Lennar['Insulation to Tilestart'].std()],\n",
    "    ['M/I', MI['Insulation to Tilestart'].std()],\n",
    "    ['Milestone', Milestone['Insulation to Tilestart'].std()],\n",
    "    ['Newmark', Newmark['Insulation to Tilestart'].std()],\n",
    "    ['Pacesetter', Pacesetter['Insulation to Tilestart'].std()],\n",
    "    ['Prominence', Prominence['Insulation to Tilestart'].std()],\n",
    "    ['Pulte', Pulte['Insulation to Tilestart'].std()],\n",
    "    ['Toll', Toll['Insulation to Tilestart'].std()],\n",
    ")"
   ]
  },
  {
   "cell_type": "code",
   "execution_count": null,
   "id": "590d4467",
   "metadata": {},
   "outputs": [],
   "source": [
    "# C:/Users/dstrader/Desktop/\n",
    "# Create a workbook and add a worksheet.\n",
    "TodaysDate = time.strftime(\"%m-%d-%Y\")\n",
    "excelsheetname = TodaysDate +\".xlsx\"\n",
    "##add desired filepath\n",
    "path = r\"/TPS.xlsx\"\n",
    "writer = pd.ExcelWriter(path, engine = 'openpyxl')\n",
    "##add desired filepath\n",
    "df.to_excel('/TPS.xlsx', sheet_name=excelsheetname, index=False)"
   ]
  },
  {
   "cell_type": "code",
   "execution_count": null,
   "id": "945e23b5",
   "metadata": {},
   "outputs": [],
   "source": []
  },
  {
   "cell_type": "code",
   "execution_count": null,
   "id": "5f741221",
   "metadata": {},
   "outputs": [],
   "source": []
  }
 ],
 "metadata": {
  "kernelspec": {
   "display_name": "Python 3 (ipykernel)",
   "language": "python",
   "name": "python3"
  },
  "language_info": {
   "codemirror_mode": {
    "name": "ipython",
    "version": 3
   },
   "file_extension": ".py",
   "mimetype": "text/x-python",
   "name": "python",
   "nbconvert_exporter": "python",
   "pygments_lexer": "ipython3",
   "version": "3.9.12"
  }
 },
 "nbformat": 4,
 "nbformat_minor": 5
}
