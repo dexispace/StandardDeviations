{
 "cells": [
  {
   "cell_type": "code",
   "execution_count": 1,
   "id": "674aa6ed",
   "metadata": {},
   "outputs": [],
   "source": [
    "import os\n",
    "import pandas as pd\n",
    "import time\n",
    "import numpy as np\n",
    "from datetime import date\n",
    "from openpyxl import load_workbook\n",
    "import matplotlib.pyplot as plt\n",
    "import gspread\n",
    "from oauth2client.service_account import ServiceAccountCredentials\n",
    "from pandas import Series, DataFrame"
   ]
  },
  {
   "cell_type": "code",
   "execution_count": 2,
   "id": "0d1a05ab",
   "metadata": {},
   "outputs": [
    {
     "name": "stdout",
     "output_type": "stream",
     "text": [
      "scoped success\n",
      "<oauth2client.service_account.ServiceAccountCredentials object at 0x000001A860BC86A0>\n"
     ]
    }
   ],
   "source": [
    "scope = ['https://spreadsheets.google.com/feeds']\n",
    "credentials = ServiceAccountCredentials.from_json_keyfile_name('C:/Users/dstrader/Desktop/service_account_GS.json', scope)\n",
    "gc = gspread.authorize(credentials)\n",
    "print('scoped success')\n",
    "print(credentials)"
   ]
  },
  {
   "cell_type": "code",
   "execution_count": 3,
   "id": "53fd431d",
   "metadata": {},
   "outputs": [
    {
     "name": "stdout",
     "output_type": "stream",
     "text": [
      "keytest complete\n"
     ]
    }
   ],
   "source": [
    "spreadsheet_key = '17h_jlIP4Mosz1TtVScannRUkbu62nQU6YVCvNC8-qAk'\n",
    "book = gc.open_by_key(spreadsheet_key)\n",
    "worksheet = book.worksheet(\"MasterAPI\")\n",
    "table = worksheet.get_all_values()\n",
    "print('keytest complete')"
   ]
  },
  {
   "cell_type": "code",
   "execution_count": 4,
   "id": "a9c8abfd",
   "metadata": {},
   "outputs": [
    {
     "name": "stdout",
     "output_type": "stream",
     "text": [
      "                    0     1        2      3        4           5           6   \\\n",
      "0              Address  Slab  Framing  DryIn  Drywall  Mechanical  Electrical   \n",
      "1          No Address?                                                          \n",
      "2          No Address?                                                          \n",
      "3      5826 Pecan Park                                                          \n",
      "4      5830 Pecan Park                                                          \n",
      "...                ...   ...      ...    ...      ...         ...         ...   \n",
      "5103  920 Villa Rialto          44564  44641                                    \n",
      "5104    2445 Bel Paese                 44588    44657                           \n",
      "5105       4625 Modena          44613  44690    44719                           \n",
      "5106  805 Villa Rialto                 44680                                    \n",
      "5107    1316 Al Fresco                 44641    44719       44680       44699   \n",
      "\n",
      "              7          8        9      10      11     12     13         14  \\\n",
      "0     Insulation  SheetRock  Texture   Tubs  Floors     BS     FP  WoodVinyl   \n",
      "1                                     44867                                    \n",
      "2                                     44867                                    \n",
      "3                                                                              \n",
      "4                                                                              \n",
      "...          ...        ...      ...    ...     ...    ...    ...        ...   \n",
      "5103                                  44771   44771  44813  44771              \n",
      "5104                                  44754   44754  44760             44854   \n",
      "5105       44728      44739    44763  44796   44796  44796                     \n",
      "5106       44754      44763    44788  44797   44797  44797  44797              \n",
      "5107       44728      44754           44784   44784  44785             44804   \n",
      "\n",
      "          15        16                    17                   18  \n",
      "0     Carpet  FineTune               Builder         Neighborhood  \n",
      "1                       Allen Reed (Houston)     Elyson (Houston)  \n",
      "2                       Allen Reed (Houston)     Elyson (Houston)  \n",
      "3                       Allen Reed (Houston)  Hitchcock (Houston)  \n",
      "4                       Allen Reed (Houston)  Hitchcock (Houston)  \n",
      "...      ...       ...                   ...                  ...  \n",
      "5103   44840     44862         Toll Brothers             Travisso  \n",
      "5104   44860     44869         Toll Brothers             Travisso  \n",
      "5105   44873     44861         Toll Brothers             Travisso  \n",
      "5106   44858     44865         Toll Brothers             Travisso  \n",
      "5107   44838     44868         Toll Brothers             Travisso  \n",
      "\n",
      "[5108 rows x 19 columns]\n"
     ]
    }
   ],
   "source": [
    "df = pd.DataFrame(table)\n",
    "print(df)"
   ]
  },
  {
   "cell_type": "code",
   "execution_count": 5,
   "id": "f61eaf95",
   "metadata": {},
   "outputs": [],
   "source": [
    "df.columns = df.iloc[0]\n",
    "df = df[1:]"
   ]
  },
  {
   "cell_type": "code",
   "execution_count": 6,
   "id": "8ce496df",
   "metadata": {},
   "outputs": [
    {
     "name": "stdout",
     "output_type": "stream",
     "text": [
      "<class 'pandas.core.frame.DataFrame'>\n",
      "RangeIndex: 5107 entries, 1 to 5107\n",
      "Data columns (total 19 columns):\n",
      " #   Column        Non-Null Count  Dtype  \n",
      "---  ------        --------------  -----  \n",
      " 0   Address       5107 non-null   object \n",
      " 1   Slab          2595 non-null   float64\n",
      " 2   Framing       3240 non-null   float64\n",
      " 3   DryIn         3132 non-null   float64\n",
      " 4   Drywall       1192 non-null   float64\n",
      " 5   Mechanical    1296 non-null   float64\n",
      " 6   Electrical    1724 non-null   float64\n",
      " 7   Insulation    1074 non-null   float64\n",
      " 8   SheetRock     1212 non-null   float64\n",
      " 9   Texture       954 non-null    float64\n",
      " 10  Tubs          2761 non-null   float64\n",
      " 11  Floors        2618 non-null   float64\n",
      " 12  BS            2497 non-null   float64\n",
      " 13  FP            340 non-null    float64\n",
      " 14  WoodVinyl     1612 non-null   float64\n",
      " 15  Carpet        2163 non-null   float64\n",
      " 16  FineTune      2037 non-null   float64\n",
      " 17  Builder       5107 non-null   object \n",
      " 18  Neighborhood  5107 non-null   object \n",
      "dtypes: float64(16), object(3)\n",
      "memory usage: 1.6 MB\n"
     ]
    }
   ],
   "source": [
    "df[\"Slab\"] = pd.to_numeric(df[\"Slab\"])\n",
    "df[\"Framing\"] = pd.to_numeric(df[\"Framing\"])\n",
    "df[\"DryIn\"] = pd.to_numeric(df[\"DryIn\"])\n",
    "df[\"Drywall\"] = pd.to_numeric(df[\"Drywall\"])\n",
    "df[\"Mechanical\"] = pd.to_numeric(df[\"Mechanical\"])\n",
    "df[\"Electrical\"] = pd.to_numeric(df[\"Electrical\"])\n",
    "df[\"Insulation\"] = pd.to_numeric(df[\"Insulation\"])\n",
    "df[\"SheetRock\"] = pd.to_numeric(df[\"SheetRock\"])\n",
    "df[\"Texture\"] = pd.to_numeric(df[\"Texture\"])\n",
    "df[\"Tubs\"] = pd.to_numeric(df[\"Tubs\"])\n",
    "df[\"Floors\"] = pd.to_numeric(df[\"Floors\"])\n",
    "df[\"BS\"] = pd.to_numeric(df[\"BS\"])\n",
    "df[\"FP\"] = pd.to_numeric(df[\"FP\"])\n",
    "df[\"WoodVinyl\"] = pd.to_numeric(df[\"WoodVinyl\"])\n",
    "df[\"Carpet\"] = pd.to_numeric(df[\"Carpet\"])\n",
    "df[\"FineTune\"] = pd.to_numeric(df[\"FineTune\"])\n",
    "df.info(memory_usage='deep')"
   ]
  },
  {
   "cell_type": "code",
   "execution_count": 7,
   "id": "b0035651",
   "metadata": {},
   "outputs": [
    {
     "name": "stdout",
     "output_type": "stream",
     "text": [
      "0                     Address     Slab  Framing    DryIn  Drywall  Mechanical  \\\n",
      "1                 No Address?      NaN      NaN      NaN      NaN         NaN   \n",
      "2                 No Address?      NaN      NaN      NaN      NaN         NaN   \n",
      "3             5826 Pecan Park      NaN      NaN      NaN      NaN         NaN   \n",
      "4             5830 Pecan Park      NaN      NaN      NaN      NaN         NaN   \n",
      "5     Vista Park Dr Blgd #401  44410.0  44417.0  44512.0  44624.0         NaN   \n",
      "...                       ...      ...      ...      ...      ...         ...   \n",
      "5103         920 Villa Rialto      NaN  44564.0  44641.0      NaN         NaN   \n",
      "5104           2445 Bel Paese      NaN      NaN  44588.0  44657.0         NaN   \n",
      "5105              4625 Modena      NaN  44613.0  44690.0  44719.0         NaN   \n",
      "5106         805 Villa Rialto      NaN      NaN  44680.0      NaN         NaN   \n",
      "5107           1316 Al Fresco      NaN      NaN  44641.0  44719.0     44680.0   \n",
      "\n",
      "0     Electrical  Insulation  SheetRock  Texture     Tubs   Floors       BS  \\\n",
      "1            NaN         NaN        NaN      NaN  44867.0      NaN      NaN   \n",
      "2            NaN         NaN        NaN      NaN  44867.0      NaN      NaN   \n",
      "3            NaN         NaN        NaN      NaN      NaN      NaN      NaN   \n",
      "4            NaN         NaN        NaN      NaN      NaN      NaN      NaN   \n",
      "5            NaN         NaN        NaN      NaN  44762.0  44762.0  44762.0   \n",
      "...          ...         ...        ...      ...      ...      ...      ...   \n",
      "5103         NaN         NaN        NaN      NaN  44771.0  44771.0  44813.0   \n",
      "5104         NaN         NaN        NaN      NaN  44754.0  44754.0  44760.0   \n",
      "5105         NaN     44728.0    44739.0  44763.0  44796.0  44796.0  44796.0   \n",
      "5106         NaN     44754.0    44763.0  44788.0  44797.0  44797.0  44797.0   \n",
      "5107     44699.0     44728.0    44754.0      NaN  44784.0  44784.0  44785.0   \n",
      "\n",
      "0          FP  WoodVinyl   Carpet  FineTune               Builder  \\\n",
      "1         NaN        NaN      NaN       NaN  Allen Reed (Houston)   \n",
      "2         NaN        NaN      NaN       NaN  Allen Reed (Houston)   \n",
      "3         NaN        NaN      NaN       NaN  Allen Reed (Houston)   \n",
      "4         NaN        NaN      NaN       NaN  Allen Reed (Houston)   \n",
      "5         NaN    44784.0  44797.0       NaN             Ash Creek   \n",
      "...       ...        ...      ...       ...                   ...   \n",
      "5103  44771.0        NaN  44840.0   44862.0         Toll Brothers   \n",
      "5104      NaN    44854.0  44860.0   44869.0         Toll Brothers   \n",
      "5105      NaN        NaN  44873.0   44861.0         Toll Brothers   \n",
      "5106  44797.0        NaN  44858.0   44865.0         Toll Brothers   \n",
      "5107      NaN    44804.0  44838.0   44868.0         Toll Brothers   \n",
      "\n",
      "0            Neighborhood  Insulation to Tilestart  \n",
      "1        Elyson (Houston)                      NaN  \n",
      "2        Elyson (Houston)                      NaN  \n",
      "3     Hitchcock (Houston)                      NaN  \n",
      "4     Hitchcock (Houston)                      NaN  \n",
      "5              Vista Park                      NaN  \n",
      "...                   ...                      ...  \n",
      "5103             Travisso                      NaN  \n",
      "5104             Travisso                      NaN  \n",
      "5105             Travisso                     68.0  \n",
      "5106             Travisso                     43.0  \n",
      "5107             Travisso                     56.0  \n",
      "\n",
      "[5107 rows x 20 columns]\n"
     ]
    }
   ],
   "source": [
    "df['Insulation to Tilestart']=df.Floors-df.Insulation\n",
    "print(df)"
   ]
  },
  {
   "cell_type": "code",
   "execution_count": 8,
   "id": "027a730b",
   "metadata": {},
   "outputs": [
    {
     "name": "stderr",
     "output_type": "stream",
     "text": [
      "C:\\Users\\dstrader\\AppData\\Local\\Temp\\ipykernel_4684\\2832727216.py:2: SettingWithCopyWarning: \n",
      "A value is trying to be set on a copy of a slice from a DataFrame.\n",
      "Try using .loc[row_indexer,col_indexer] = value instead\n",
      "\n",
      "See the caveats in the documentation: https://pandas.pydata.org/pandas-docs/stable/user_guide/indexing.html#returning-a-view-versus-a-copy\n",
      "  Blackburn['Insulation to Tilestart']=Blackburn.Floors-Blackburn.Insulation\n"
     ]
    }
   ],
   "source": [
    "Blackburn = df[df['Builder'].str.contains('Blackburn')]\n",
    "Blackburn['Insulation to Tilestart']=Blackburn.Floors-Blackburn.Insulation\n",
    "BlackburnMean = (Blackburn['Insulation to Tilestart'].mean())"
   ]
  },
  {
   "cell_type": "code",
   "execution_count": 9,
   "id": "0d8f3368",
   "metadata": {},
   "outputs": [
    {
     "name": "stderr",
     "output_type": "stream",
     "text": [
      "C:\\Users\\dstrader\\AppData\\Local\\Temp\\ipykernel_4684\\1571270649.py:2: SettingWithCopyWarning: \n",
      "A value is trying to be set on a copy of a slice from a DataFrame.\n",
      "Try using .loc[row_indexer,col_indexer] = value instead\n",
      "\n",
      "See the caveats in the documentation: https://pandas.pydata.org/pandas-docs/stable/user_guide/indexing.html#returning-a-view-versus-a-copy\n",
      "  Brookfield['Insulation to Tilestart']=Brookfield.Floors-Brookfield.Insulation\n"
     ]
    }
   ],
   "source": [
    "Brookfield = df[df['Builder'].str.contains('Brookfield')]\n",
    "Brookfield['Insulation to Tilestart']=Brookfield.Floors-Brookfield.Insulation\n",
    "BrookfieldMean = (Brookfield['Insulation to Tilestart'].mean())"
   ]
  },
  {
   "cell_type": "code",
   "execution_count": 10,
   "id": "8ed558f7",
   "metadata": {},
   "outputs": [
    {
     "name": "stderr",
     "output_type": "stream",
     "text": [
      "C:\\Users\\dstrader\\AppData\\Local\\Temp\\ipykernel_4684\\2538764789.py:2: SettingWithCopyWarning: \n",
      "A value is trying to be set on a copy of a slice from a DataFrame.\n",
      "Try using .loc[row_indexer,col_indexer] = value instead\n",
      "\n",
      "See the caveats in the documentation: https://pandas.pydata.org/pandas-docs/stable/user_guide/indexing.html#returning-a-view-versus-a-copy\n",
      "  Coventry['Insulation to Tilestart']=Coventry.Floors-Coventry.Insulation\n"
     ]
    }
   ],
   "source": [
    "Coventry = df[df['Builder'].str.contains('Coventry')]\n",
    "Coventry['Insulation to Tilestart']=Coventry.Floors-Coventry.Insulation\n",
    "CoventryMean = (Coventry['Insulation to Tilestart'].mean())"
   ]
  },
  {
   "cell_type": "code",
   "execution_count": 11,
   "id": "325f9066",
   "metadata": {},
   "outputs": [
    {
     "name": "stderr",
     "output_type": "stream",
     "text": [
      "C:\\Users\\dstrader\\AppData\\Local\\Temp\\ipykernel_4684\\1553838619.py:2: SettingWithCopyWarning: \n",
      "A value is trying to be set on a copy of a slice from a DataFrame.\n",
      "Try using .loc[row_indexer,col_indexer] = value instead\n",
      "\n",
      "See the caveats in the documentation: https://pandas.pydata.org/pandas-docs/stable/user_guide/indexing.html#returning-a-view-versus-a-copy\n",
      "  DRHorton['Insulation to Tilestart']=DRHorton.Floors-DRHorton.Insulation\n"
     ]
    }
   ],
   "source": [
    "DRHorton = df[df['Builder'].str.contains('DR Horton')]\n",
    "DRHorton['Insulation to Tilestart']=DRHorton.Floors-DRHorton.Insulation\n",
    "DRHortonMean = (DRHorton['Insulation to Tilestart'].mean())"
   ]
  },
  {
   "cell_type": "code",
   "execution_count": 12,
   "id": "d07f9d50",
   "metadata": {},
   "outputs": [
    {
     "name": "stderr",
     "output_type": "stream",
     "text": [
      "C:\\Users\\dstrader\\AppData\\Local\\Temp\\ipykernel_4684\\1571270649.py:2: SettingWithCopyWarning: \n",
      "A value is trying to be set on a copy of a slice from a DataFrame.\n",
      "Try using .loc[row_indexer,col_indexer] = value instead\n",
      "\n",
      "See the caveats in the documentation: https://pandas.pydata.org/pandas-docs/stable/user_guide/indexing.html#returning-a-view-versus-a-copy\n",
      "  Brookfield['Insulation to Tilestart']=Brookfield.Floors-Brookfield.Insulation\n"
     ]
    }
   ],
   "source": [
    "Brookfield = df[df['Builder'].str.contains('Brookfield')]\n",
    "Brookfield['Insulation to Tilestart']=Brookfield.Floors-Brookfield.Insulation\n",
    "BrookfieldMean = (Brookfield['Insulation to Tilestart'].mean())"
   ]
  },
  {
   "cell_type": "code",
   "execution_count": 13,
   "id": "465d5f57",
   "metadata": {},
   "outputs": [
    {
     "name": "stderr",
     "output_type": "stream",
     "text": [
      "C:\\Users\\dstrader\\AppData\\Local\\Temp\\ipykernel_4684\\412156548.py:2: SettingWithCopyWarning: \n",
      "A value is trying to be set on a copy of a slice from a DataFrame.\n",
      "Try using .loc[row_indexer,col_indexer] = value instead\n",
      "\n",
      "See the caveats in the documentation: https://pandas.pydata.org/pandas-docs/stable/user_guide/indexing.html#returning-a-view-versus-a-copy\n",
      "  MI['Insulation to Tilestart']=MI.Floors-MI.Insulation\n"
     ]
    }
   ],
   "source": [
    "MI = df[df['Builder'].str.contains('M/I')]\n",
    "MI['Insulation to Tilestart']=MI.Floors-MI.Insulation\n",
    "MIMean = (MI['Insulation to Tilestart'].mean())"
   ]
  },
  {
   "cell_type": "code",
   "execution_count": 14,
   "id": "8c31ec39",
   "metadata": {},
   "outputs": [
    {
     "name": "stderr",
     "output_type": "stream",
     "text": [
      "C:\\Users\\dstrader\\AppData\\Local\\Temp\\ipykernel_4684\\1941394178.py:2: SettingWithCopyWarning: \n",
      "A value is trying to be set on a copy of a slice from a DataFrame.\n",
      "Try using .loc[row_indexer,col_indexer] = value instead\n",
      "\n",
      "See the caveats in the documentation: https://pandas.pydata.org/pandas-docs/stable/user_guide/indexing.html#returning-a-view-versus-a-copy\n",
      "  Milestone['Insulation to Tilestart']=Milestone.Floors-Milestone.Insulation\n"
     ]
    }
   ],
   "source": [
    "Milestone = df[df['Builder'].str.contains('Milestone')]\n",
    "Milestone['Insulation to Tilestart']=Milestone.Floors-Milestone.Insulation\n",
    "MilestoneMean = (Milestone['Insulation to Tilestart'].mean())"
   ]
  },
  {
   "cell_type": "code",
   "execution_count": 15,
   "id": "01d48996",
   "metadata": {},
   "outputs": [
    {
     "name": "stderr",
     "output_type": "stream",
     "text": [
      "C:\\Users\\dstrader\\AppData\\Local\\Temp\\ipykernel_4684\\1888581461.py:2: SettingWithCopyWarning: \n",
      "A value is trying to be set on a copy of a slice from a DataFrame.\n",
      "Try using .loc[row_indexer,col_indexer] = value instead\n",
      "\n",
      "See the caveats in the documentation: https://pandas.pydata.org/pandas-docs/stable/user_guide/indexing.html#returning-a-view-versus-a-copy\n",
      "  Lennar['Insulation to Tilestart']=Lennar.Floors-Lennar.Insulation\n"
     ]
    }
   ],
   "source": [
    "Lennar = df[df['Builder'].str.contains('Lennar')]\n",
    "Lennar['Insulation to Tilestart']=Lennar.Floors-Lennar.Insulation\n",
    "LennarMean = (Lennar['Insulation to Tilestart'].mean())"
   ]
  },
  {
   "cell_type": "code",
   "execution_count": 16,
   "id": "9387d195",
   "metadata": {},
   "outputs": [
    {
     "name": "stderr",
     "output_type": "stream",
     "text": [
      "C:\\Users\\dstrader\\AppData\\Local\\Temp\\ipykernel_4684\\174981792.py:2: SettingWithCopyWarning: \n",
      "A value is trying to be set on a copy of a slice from a DataFrame.\n",
      "Try using .loc[row_indexer,col_indexer] = value instead\n",
      "\n",
      "See the caveats in the documentation: https://pandas.pydata.org/pandas-docs/stable/user_guide/indexing.html#returning-a-view-versus-a-copy\n",
      "  Newmark['Insulation to Tilestart']=Newmark.Floors-Newmark.Insulation\n"
     ]
    }
   ],
   "source": [
    "Newmark = df[df['Builder'].str.contains('Newmark')]\n",
    "Newmark['Insulation to Tilestart']=Newmark.Floors-Newmark.Insulation\n",
    "NewmarkMean = (Newmark['Insulation to Tilestart'].mean())"
   ]
  },
  {
   "cell_type": "code",
   "execution_count": 17,
   "id": "b733457b",
   "metadata": {},
   "outputs": [
    {
     "name": "stderr",
     "output_type": "stream",
     "text": [
      "C:\\Users\\dstrader\\AppData\\Local\\Temp\\ipykernel_4684\\1129359742.py:2: SettingWithCopyWarning: \n",
      "A value is trying to be set on a copy of a slice from a DataFrame.\n",
      "Try using .loc[row_indexer,col_indexer] = value instead\n",
      "\n",
      "See the caveats in the documentation: https://pandas.pydata.org/pandas-docs/stable/user_guide/indexing.html#returning-a-view-versus-a-copy\n",
      "  Pacesetter['Insulation to Tilestart']=Pacesetter.Floors-Pacesetter.Insulation\n"
     ]
    }
   ],
   "source": [
    "Pacesetter = df[df['Builder'].str.contains('Pacesetter')]\n",
    "Pacesetter['Insulation to Tilestart']=Pacesetter.Floors-Pacesetter.Insulation\n",
    "PacesetterMean = (Pacesetter['Insulation to Tilestart'].mean())"
   ]
  },
  {
   "cell_type": "code",
   "execution_count": 18,
   "id": "864b92f7",
   "metadata": {},
   "outputs": [
    {
     "name": "stderr",
     "output_type": "stream",
     "text": [
      "C:\\Users\\dstrader\\AppData\\Local\\Temp\\ipykernel_4684\\2426781850.py:2: SettingWithCopyWarning: \n",
      "A value is trying to be set on a copy of a slice from a DataFrame.\n",
      "Try using .loc[row_indexer,col_indexer] = value instead\n",
      "\n",
      "See the caveats in the documentation: https://pandas.pydata.org/pandas-docs/stable/user_guide/indexing.html#returning-a-view-versus-a-copy\n",
      "  Prominence['Insulation to Tilestart']=Prominence.Floors-Prominence.Insulation\n"
     ]
    }
   ],
   "source": [
    "Prominence = df[df['Builder'].str.contains('Prominence')]\n",
    "Prominence['Insulation to Tilestart']=Prominence.Floors-Prominence.Insulation\n",
    "ProminenceMean = (Prominence['Insulation to Tilestart'].mean())"
   ]
  },
  {
   "cell_type": "code",
   "execution_count": 19,
   "id": "29f8e01e",
   "metadata": {},
   "outputs": [
    {
     "name": "stderr",
     "output_type": "stream",
     "text": [
      "C:\\Users\\dstrader\\AppData\\Local\\Temp\\ipykernel_4684\\877058037.py:2: SettingWithCopyWarning: \n",
      "A value is trying to be set on a copy of a slice from a DataFrame.\n",
      "Try using .loc[row_indexer,col_indexer] = value instead\n",
      "\n",
      "See the caveats in the documentation: https://pandas.pydata.org/pandas-docs/stable/user_guide/indexing.html#returning-a-view-versus-a-copy\n",
      "  Pulte['Insulation to Tilestart']=Pulte.Floors-Pulte.Insulation\n"
     ]
    }
   ],
   "source": [
    "Pulte = df[df['Builder'].str.contains('Pulte')]\n",
    "Pulte['Insulation to Tilestart']=Pulte.Floors-Pulte.Insulation\n",
    "PulteMean = (Pulte['Insulation to Tilestart'].mean())"
   ]
  },
  {
   "cell_type": "code",
   "execution_count": 20,
   "id": "2294cca7",
   "metadata": {},
   "outputs": [
    {
     "name": "stderr",
     "output_type": "stream",
     "text": [
      "C:\\Users\\dstrader\\AppData\\Local\\Temp\\ipykernel_4684\\3504039466.py:2: SettingWithCopyWarning: \n",
      "A value is trying to be set on a copy of a slice from a DataFrame.\n",
      "Try using .loc[row_indexer,col_indexer] = value instead\n",
      "\n",
      "See the caveats in the documentation: https://pandas.pydata.org/pandas-docs/stable/user_guide/indexing.html#returning-a-view-versus-a-copy\n",
      "  Toll['Insulation to Tilestart']=Toll.Floors-Toll.Insulation\n"
     ]
    }
   ],
   "source": [
    "Toll = df[df['Builder'].str.contains('Toll Brothers')]\n",
    "Toll['Insulation to Tilestart']=Toll.Floors-Toll.Insulation\n",
    "TollMean = (Toll['Insulation to Tilestart'].mean())"
   ]
  },
  {
   "cell_type": "code",
   "execution_count": 21,
   "id": "795035fa",
   "metadata": {},
   "outputs": [
    {
     "name": "stdout",
     "output_type": "stream",
     "text": [
      "Blackburn's Standard Deviation\n",
      "8.352456690311705\n",
      "Blackburn's Average Insulation to Tilestart\n",
      "45.074074074074076\n"
     ]
    }
   ],
   "source": [
    "print(\"Blackburn's Standard Deviation\")\n",
    "print(Blackburn['Insulation to Tilestart'].std())\n",
    "print(\"Blackburn's Average Insulation to Tilestart\")\n",
    "print(BlackburnMean)"
   ]
  },
  {
   "cell_type": "code",
   "execution_count": 22,
   "id": "bff1f1fa",
   "metadata": {},
   "outputs": [
    {
     "name": "stdout",
     "output_type": "stream",
     "text": [
      "Brookfield's Standard Deviation\n",
      "9.31080184654395\n",
      "Brookfield's Average Insulation to Tilestart\n",
      "38.89344262295082\n"
     ]
    }
   ],
   "source": [
    "print(\"Brookfield's Standard Deviation\")\n",
    "print(Brookfield['Insulation to Tilestart'].std())\n",
    "print(\"Brookfield's Average Insulation to Tilestart\")\n",
    "print(BrookfieldMean)"
   ]
  },
  {
   "cell_type": "code",
   "execution_count": 23,
   "id": "8f2a3442",
   "metadata": {},
   "outputs": [
    {
     "name": "stdout",
     "output_type": "stream",
     "text": [
      "Coventry's Standard Deviation\n",
      "nan\n",
      "Coventry's Average Insulation to Tilestart\n",
      "nan\n"
     ]
    }
   ],
   "source": [
    "print(\"Coventry's Standard Deviation\")\n",
    "print(Coventry['Insulation to Tilestart'].std())\n",
    "print(\"Coventry's Average Insulation to Tilestart\")\n",
    "print(CoventryMean)"
   ]
  },
  {
   "cell_type": "code",
   "execution_count": 24,
   "id": "946eb223",
   "metadata": {},
   "outputs": [
    {
     "name": "stdout",
     "output_type": "stream",
     "text": [
      "DRHorton's Standard Deviation\n",
      "nan\n",
      "DRHorton's Average Insulation to Tilestart\n",
      "nan\n"
     ]
    }
   ],
   "source": [
    "print(\"DRHorton's Standard Deviation\")\n",
    "print(DRHorton['Insulation to Tilestart'].std())\n",
    "print(\"DRHorton's Average Insulation to Tilestart\")\n",
    "print(DRHortonMean)"
   ]
  },
  {
   "cell_type": "code",
   "execution_count": 25,
   "id": "777156f0",
   "metadata": {},
   "outputs": [
    {
     "name": "stdout",
     "output_type": "stream",
     "text": [
      "Lennar's Standard Deviation\n",
      "5.945119380167605\n",
      "Lennar's Average Insulation to Tilestart\n",
      "32.7\n"
     ]
    }
   ],
   "source": [
    "print(\"Lennar's Standard Deviation\")\n",
    "print(Lennar['Insulation to Tilestart'].std())\n",
    "print(\"Lennar's Average Insulation to Tilestart\")\n",
    "print(LennarMean)"
   ]
  },
  {
   "cell_type": "code",
   "execution_count": 26,
   "id": "0b366f96",
   "metadata": {},
   "outputs": [
    {
     "name": "stdout",
     "output_type": "stream",
     "text": [
      "M/I's Standard Deviation\n",
      "11.874943608888662\n",
      "M/I's Average Insulation to Tilestart\n",
      "54.285714285714285\n"
     ]
    }
   ],
   "source": [
    "print(\"M/I's Standard Deviation\")\n",
    "print(MI['Insulation to Tilestart'].std())\n",
    "print(\"M/I's Average Insulation to Tilestart\")\n",
    "print(MIMean)"
   ]
  },
  {
   "cell_type": "code",
   "execution_count": 27,
   "id": "9d2f13be",
   "metadata": {},
   "outputs": [
    {
     "name": "stdout",
     "output_type": "stream",
     "text": [
      "Milestone's Standard Deviation\n",
      "11.82221919574473\n",
      "Milestone's Average Insulation to Tilestart\n",
      "34.701298701298704\n"
     ]
    }
   ],
   "source": [
    "print(\"Milestone's Standard Deviation\")\n",
    "print(Milestone['Insulation to Tilestart'].std())\n",
    "print(\"Milestone's Average Insulation to Tilestart\")\n",
    "print(MilestoneMean)"
   ]
  },
  {
   "cell_type": "code",
   "execution_count": 28,
   "id": "4f2e5a8a",
   "metadata": {},
   "outputs": [
    {
     "name": "stdout",
     "output_type": "stream",
     "text": [
      "Newmark's Standard Deviation\n",
      "16.857121983789366\n",
      "Newmark's Average Insulation to Tilestart\n",
      "50.3448275862069\n"
     ]
    }
   ],
   "source": [
    "print(\"Newmark's Standard Deviation\")\n",
    "print(Newmark['Insulation to Tilestart'].std())\n",
    "print(\"Newmark's Average Insulation to Tilestart\")\n",
    "print(NewmarkMean)"
   ]
  },
  {
   "cell_type": "code",
   "execution_count": 29,
   "id": "9a6ea1aa",
   "metadata": {},
   "outputs": [
    {
     "name": "stdout",
     "output_type": "stream",
     "text": [
      "Pacesetter's Standard Deviation\n",
      "15.373382956945541\n",
      "Pacesetter's Average Insulation to Tilestart\n",
      "42.472527472527474\n"
     ]
    }
   ],
   "source": [
    "print(\"Pacesetter's Standard Deviation\")\n",
    "print(Pacesetter['Insulation to Tilestart'].std())\n",
    "print(\"Pacesetter's Average Insulation to Tilestart\")\n",
    "print(PacesetterMean)"
   ]
  },
  {
   "cell_type": "code",
   "execution_count": 30,
   "id": "99c7bcb5",
   "metadata": {},
   "outputs": [
    {
     "name": "stdout",
     "output_type": "stream",
     "text": [
      "Prominence's Standard Deviation\n",
      "11.85748708622531\n",
      "Prominence's Average Insulation to Tilestart\n",
      "38.0\n"
     ]
    }
   ],
   "source": [
    "print(\"Prominence's Standard Deviation\")\n",
    "print(Prominence['Insulation to Tilestart'].std())\n",
    "print(\"Prominence's Average Insulation to Tilestart\")\n",
    "print(ProminenceMean)"
   ]
  },
  {
   "cell_type": "code",
   "execution_count": 31,
   "id": "85328ea1",
   "metadata": {},
   "outputs": [
    {
     "name": "stdout",
     "output_type": "stream",
     "text": [
      "Pulte's Standard Deviation\n",
      "11.846351353319882\n",
      "Pulte's Average Insulation to Tilestart\n",
      "46.30882352941177\n"
     ]
    }
   ],
   "source": [
    "print(\"Pulte's Standard Deviation\")\n",
    "print(Pulte['Insulation to Tilestart'].std())\n",
    "print(\"Pulte's Average Insulation to Tilestart\")\n",
    "print(PulteMean)"
   ]
  },
  {
   "cell_type": "code",
   "execution_count": 32,
   "id": "70cd92ed",
   "metadata": {},
   "outputs": [
    {
     "name": "stdout",
     "output_type": "stream",
     "text": [
      "Toll's Standard Deviation\n",
      "13.744156911853075\n",
      "Toll's Average Insulation to Tilestart\n",
      "53.26315789473684\n"
     ]
    }
   ],
   "source": [
    "print(\"Toll's Standard Deviation\")\n",
    "print(Toll['Insulation to Tilestart'].std())\n",
    "print(\"Toll's Average Insulation to Tilestart\")\n",
    "print(TollMean)"
   ]
  },
  {
   "cell_type": "code",
   "execution_count": 33,
   "id": "03819ca9",
   "metadata": {},
   "outputs": [],
   "source": [
    "Builderstd = (\n",
    "    ['Blackburn', Blackburn['Insulation to Tilestart'].std()],\n",
    "    ['Brookfield', Brookfield['Insulation to Tilestart'].std()],\n",
    "    ['Coventry', Coventry['Insulation to Tilestart'].std()],\n",
    "    ['DR Horton', DRHorton['Insulation to Tilestart'].std()],\n",
    "    ['Lennar', Lennar['Insulation to Tilestart'].std()],\n",
    "    ['M/I', MI['Insulation to Tilestart'].std()],\n",
    "    ['Milestone', Milestone['Insulation to Tilestart'].std()],\n",
    "    ['Newmark', Newmark['Insulation to Tilestart'].std()],\n",
    "    ['Pacesetter', Pacesetter['Insulation to Tilestart'].std()],\n",
    "    ['Prominence', Prominence['Insulation to Tilestart'].std()],\n",
    "    ['Pulte', Pulte['Insulation to Tilestart'].std()],\n",
    "    ['Toll', Toll['Insulation to Tilestart'].std()],\n",
    ")"
   ]
  },
  {
   "cell_type": "code",
   "execution_count": 34,
   "id": "590d4467",
   "metadata": {},
   "outputs": [],
   "source": [
    "# C:/Users/dstrader/Desktop/\n",
    "# Create a workbook and add a worksheet.\n",
    "TodaysDate = time.strftime(\"%m-%d-%Y\")\n",
    "excelsheetname = TodaysDate +\".xlsx\"\n",
    "path = r\"C:/Users/dstrader/Desktop/TPS.xlsx\"\n",
    "writer = pd.ExcelWriter(path, engine = 'openpyxl')\n",
    "df.to_excel('C:/Users/dstrader/Desktop/TPS.xlsx', sheet_name=excelsheetname, index=False)"
   ]
  },
  {
   "cell_type": "code",
   "execution_count": null,
   "id": "945e23b5",
   "metadata": {},
   "outputs": [],
   "source": []
  },
  {
   "cell_type": "code",
   "execution_count": null,
   "id": "5f741221",
   "metadata": {},
   "outputs": [],
   "source": []
  }
 ],
 "metadata": {
  "kernelspec": {
   "display_name": "Python 3 (ipykernel)",
   "language": "python",
   "name": "python3"
  },
  "language_info": {
   "codemirror_mode": {
    "name": "ipython",
    "version": 3
   },
   "file_extension": ".py",
   "mimetype": "text/x-python",
   "name": "python",
   "nbconvert_exporter": "python",
   "pygments_lexer": "ipython3",
   "version": "3.9.12"
  }
 },
 "nbformat": 4,
 "nbformat_minor": 5
}
